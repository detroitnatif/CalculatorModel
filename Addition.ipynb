{
 "cells": [
  {
   "cell_type": "code",
   "execution_count": 183,
   "id": "3d0e3ac5",
   "metadata": {},
   "outputs": [],
   "source": [
    "# Import PyTorch\n",
    "import torch\n",
    "from torch import nn\n",
    "\n",
    "import os\n",
    "# Import torchvision \n",
    "import torchvision\n",
    "from torchvision import datasets\n",
    "from torchvision.transforms import ToTensor\n",
    "from torchvision import transforms\n",
    "# Import matplotlib for visualization\n",
    "import matplotlib.pyplot as plt\n",
    "import torch.nn as nn\n",
    "import torch.nn.functional as F\n",
    "import torch.optim as optim\n",
    "\n",
    "from torch.utils.data import DataLoader\n",
    "\n",
    "\n",
    "\n",
    "\n"
   ]
  },
  {
   "cell_type": "code",
   "execution_count": 184,
   "id": "1919156d",
   "metadata": {},
   "outputs": [
    {
     "name": "stdout",
     "output_type": "stream",
     "text": [
      "torch.Size([100000, 1])\n"
     ]
    }
   ],
   "source": [
    "x_train = torch.rand(100000, 2)\n",
    "y_train = torch.sum(x_train, dim=1).unsqueeze(-1)\n",
    "\n",
    "print(y_train.shape)\n",
    "\n",
    "\n",
    "x_test = torch.rand(100, 2)\n",
    "y_test = torch.sum(x_test, dim=1)"
   ]
  },
  {
   "cell_type": "code",
   "execution_count": 197,
   "id": "314d2a47",
   "metadata": {},
   "outputs": [],
   "source": [
    "class NeuralNet(nn.Module):\n",
    "    \n",
    "    def __init__(self):\n",
    "        super(NeuralNet, self).__init__()\n",
    "        \n",
    "        self.ln1 = nn.Linear(in_features=2, out_features=16)\n",
    "#         self.ln2 = nn.Linear(in_features=16, out_features=16)\n",
    "        self.ln3 = nn.Linear(in_features=16, out_features=1)\n",
    "        \n",
    "    def forward(self, x):\n",
    "        x = self.ln1(x)\n",
    "#         x = torch.nn.functional.tanh(x)\n",
    "#         x = self.ln2(x)\n",
    "#         x = torch.nn.functional.tanh(x)\n",
    "        x = self.ln3(x)\n",
    "#         x = torch.nn.functional.tanh(x)\n",
    "        return (x)\n",
    "        "
   ]
  },
  {
   "cell_type": "code",
   "execution_count": 198,
   "id": "91b27f26",
   "metadata": {},
   "outputs": [],
   "source": [
    "model = NeuralNet()\n",
    "optimizer = optim.Adam(model.parameters(), lr = .001)\n",
    "loss_fn = nn.MSELoss()"
   ]
  },
  {
   "cell_type": "code",
   "execution_count": 199,
   "id": "17f92d94",
   "metadata": {},
   "outputs": [],
   "source": [
    "import torch\n",
    "from torch.utils.data import DataLoader\n",
    "\n",
    "xtrain_loader = DataLoader(x_train, batch_size=100, num_workers=0)\n",
    "ytrain_loader = DataLoader(y_train, batch_size=100, num_workers=0)"
   ]
  },
  {
   "cell_type": "code",
   "execution_count": 206,
   "id": "00ba8c28",
   "metadata": {},
   "outputs": [],
   "source": [
    "out_loss = 0\n",
    "for idx in range(5000):\n",
    "    \n",
    "    model.train()\n",
    "#     xB = x_train[idx].unsqueeze(0).float()\n",
    "    ypred = model(x_train)\n",
    "#     target = y_train[idx].float()\n",
    "    target = y_train\n",
    "    loss = loss_fn(ypred, target)\n",
    "    loss.backward()\n",
    "    optimizer.step()\n",
    "    optimizer.zero_grad()\n",
    "    out_loss = loss\n",
    "    \n"
   ]
  },
  {
   "cell_type": "code",
   "execution_count": 208,
   "id": "ecc9269d",
   "metadata": {},
   "outputs": [
    {
     "name": "stdout",
     "output_type": "stream",
     "text": [
      "target 1.4787176847457886\n",
      "output 1.4787176847457886\n",
      "target 1.6238040924072266\n",
      "output 1.6238040924072266\n",
      "target 0.38924503326416016\n",
      "output 0.38924503326416016\n",
      "target 0.7276502251625061\n",
      "output 0.7276502847671509\n",
      "target 0.39727336168289185\n",
      "output 0.39727336168289185\n"
     ]
    }
   ],
   "source": [
    "import numpy as np\n",
    "\n",
    "for i in range(5):\n",
    "    model.eval()\n",
    "    idx = np.random.randint(0, len(x_test))\n",
    "    xB = x_test[idx].unsqueeze(0)\n",
    "\n",
    "    yB = y_test[idx].unsqueeze(0)\n",
    "    logits = model(xB)\n",
    "#     print(\"1\", xB[:,1].item())\n",
    "#     print(\"2\", xB[:,0].item())\n",
    "    print(\"target\",yB.item())\n",
    "    print(\"output\", logits.item())\n",
    "    \n",
    "    \n",
    "    \n",
    "    \n",
    "    \n",
    "    "
   ]
  },
  {
   "cell_type": "code",
   "execution_count": 210,
   "id": "167207a5",
   "metadata": {},
   "outputs": [
    {
     "name": "stdout",
     "output_type": "stream",
     "text": [
      "0.36 + 0.25 = 0.61, predicted: 0.61\n",
      "0.65 + 0.58 = 1.23, predicted: 1.23\n",
      "0.02 + 0.67 = 0.68, predicted: 0.68\n",
      "0.45 + 0.26 = 0.71, predicted: 0.71\n",
      "0.87 + 0.17 = 1.04, predicted: 1.04\n"
     ]
    }
   ],
   "source": [
    "for i in range(5):\n",
    "    X = torch.rand(1, 2)\n",
    "    y_pred = model(X)\n",
    "    print(f\"{X[:, 0].item():.2f} + {X[:, 1].item():.2f} = {X.sum().item():.2f}, predicted: {y_pred.item():.2f}\")"
   ]
  },
  {
   "cell_type": "code",
   "execution_count": null,
   "id": "70c6620c",
   "metadata": {},
   "outputs": [],
   "source": []
  },
  {
   "cell_type": "code",
   "execution_count": null,
   "id": "7fec0f95",
   "metadata": {},
   "outputs": [],
   "source": []
  }
 ],
 "metadata": {
  "kernelspec": {
   "display_name": "Python 3 (ipykernel)",
   "language": "python",
   "name": "python3"
  },
  "language_info": {
   "codemirror_mode": {
    "name": "ipython",
    "version": 3
   },
   "file_extension": ".py",
   "mimetype": "text/x-python",
   "name": "python",
   "nbconvert_exporter": "python",
   "pygments_lexer": "ipython3",
   "version": "3.9.13"
  }
 },
 "nbformat": 4,
 "nbformat_minor": 5
}
