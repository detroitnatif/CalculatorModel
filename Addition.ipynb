{
 "cells": [
  {
   "cell_type": "code",
   "execution_count": 4,
   "id": "3d0e3ac5",
   "metadata": {},
   "outputs": [],
   "source": [
    "# Import PyTorch\n",
    "import torch\n",
    "from torch import nn\n",
    "\n",
    "import os\n",
    "# Import torchvision \n",
    "import torchvision\n",
    "from torchvision import datasets\n",
    "from torchvision.transforms import ToTensor\n",
    "from torchvision import transforms\n",
    "# Import matplotlib for visualization\n",
    "import matplotlib.pyplot as plt\n",
    "import torch.nn as nn\n",
    "import torch.optim as optim\n",
    "\n",
    "from torch.utils.data import DataLoader\n",
    "\n",
    "\n",
    "\n",
    "\n"
   ]
  },
  {
   "cell_type": "code",
   "execution_count": 52,
   "id": "1919156d",
   "metadata": {},
   "outputs": [],
   "source": [
    "x_train = torch.rand(10000, 2)\n",
    "y_train = torch.sum(x_train, dim=1)\n",
    "\n",
    "\n",
    "x_test = torch.rand(100, 2)\n",
    "y_test = torch.sum(x_test, dim=1)"
   ]
  },
  {
   "cell_type": "code",
   "execution_count": 73,
   "id": "314d2a47",
   "metadata": {},
   "outputs": [],
   "source": [
    "class NeuralNet(nn.Module):\n",
    "    \n",
    "    def __init__(self):\n",
    "        super(NeuralNet, self).__init__()\n",
    "        \n",
    "        self.ln1 = nn.Linear(in_features=2, out_features=256)\n",
    "        self.ln2 = nn.Linear(in_features=256, out_features=256)\n",
    "        self.ln3 = nn.Linear(in_features=256, out_features=1)\n",
    "        \n",
    "    def forward(self, x):\n",
    "        x = self.ln1(x)\n",
    "        x = torch.nn.functional.tanh()(x)\n",
    "        x = self.ln2(x)\n",
    "        x = torch.nn.functional.tanh()(x)\n",
    "        x = self.ln3(x)\n",
    "        x = torch.nn.functional.tanh()(x)\n",
    "        return (x)\n",
    "        "
   ]
  },
  {
   "cell_type": "code",
   "execution_count": 74,
   "id": "91b27f26",
   "metadata": {},
   "outputs": [],
   "source": [
    "model = NeuralNet()\n",
    "optimizer = optim.Adam(model.parameters(), lr = .01)\n",
    "loss_fn = nn.MSELoss()"
   ]
  },
  {
   "cell_type": "code",
   "execution_count": 75,
   "id": "17f92d94",
   "metadata": {},
   "outputs": [],
   "source": [
    "import torch\n",
    "from torch.utils.data import DataLoader\n",
    "\n",
    "xtrain_loader = DataLoader(x_train, batch_size=100, num_workers=0)\n",
    "ytrain_loader = DataLoader(y_train, batch_size=100, num_workers=0)"
   ]
  },
  {
   "cell_type": "code",
   "execution_count": 76,
   "id": "00ba8c28",
   "metadata": {},
   "outputs": [
    {
     "ename": "AttributeError",
     "evalue": "module 'torch.nn' has no attribute 'tanh'",
     "output_type": "error",
     "traceback": [
      "\u001b[0;31m---------------------------------------------------------------------------\u001b[0m",
      "\u001b[0;31mAttributeError\u001b[0m                            Traceback (most recent call last)",
      "Input \u001b[0;32mIn [76]\u001b[0m, in \u001b[0;36m<cell line: 1>\u001b[0;34m()\u001b[0m\n\u001b[1;32m      3\u001b[0m model\u001b[38;5;241m.\u001b[39mtrain()\n\u001b[1;32m      4\u001b[0m xB \u001b[38;5;241m=\u001b[39m x_train[idx]\u001b[38;5;241m.\u001b[39munsqueeze(\u001b[38;5;241m0\u001b[39m)\u001b[38;5;241m.\u001b[39mfloat()\n\u001b[0;32m----> 5\u001b[0m ypred \u001b[38;5;241m=\u001b[39m \u001b[43mmodel\u001b[49m\u001b[43m(\u001b[49m\u001b[43mxB\u001b[49m\u001b[43m)\u001b[49m\n\u001b[1;32m      6\u001b[0m \u001b[38;5;28mprint\u001b[39m(ypred)\n\u001b[1;32m      7\u001b[0m target \u001b[38;5;241m=\u001b[39m y_train[idx]\u001b[38;5;241m.\u001b[39mfloat()\n",
      "File \u001b[0;32m/Library/Frameworks/Python.framework/Versions/3.9/lib/python3.9/site-packages/torch/nn/modules/module.py:1511\u001b[0m, in \u001b[0;36mModule._wrapped_call_impl\u001b[0;34m(self, *args, **kwargs)\u001b[0m\n\u001b[1;32m   1509\u001b[0m     \u001b[38;5;28;01mreturn\u001b[39;00m \u001b[38;5;28mself\u001b[39m\u001b[38;5;241m.\u001b[39m_compiled_call_impl(\u001b[38;5;241m*\u001b[39margs, \u001b[38;5;241m*\u001b[39m\u001b[38;5;241m*\u001b[39mkwargs)  \u001b[38;5;66;03m# type: ignore[misc]\u001b[39;00m\n\u001b[1;32m   1510\u001b[0m \u001b[38;5;28;01melse\u001b[39;00m:\n\u001b[0;32m-> 1511\u001b[0m     \u001b[38;5;28;01mreturn\u001b[39;00m \u001b[38;5;28;43mself\u001b[39;49m\u001b[38;5;241;43m.\u001b[39;49m\u001b[43m_call_impl\u001b[49m\u001b[43m(\u001b[49m\u001b[38;5;241;43m*\u001b[39;49m\u001b[43margs\u001b[49m\u001b[43m,\u001b[49m\u001b[43m \u001b[49m\u001b[38;5;241;43m*\u001b[39;49m\u001b[38;5;241;43m*\u001b[39;49m\u001b[43mkwargs\u001b[49m\u001b[43m)\u001b[49m\n",
      "File \u001b[0;32m/Library/Frameworks/Python.framework/Versions/3.9/lib/python3.9/site-packages/torch/nn/modules/module.py:1520\u001b[0m, in \u001b[0;36mModule._call_impl\u001b[0;34m(self, *args, **kwargs)\u001b[0m\n\u001b[1;32m   1515\u001b[0m \u001b[38;5;66;03m# If we don't have any hooks, we want to skip the rest of the logic in\u001b[39;00m\n\u001b[1;32m   1516\u001b[0m \u001b[38;5;66;03m# this function, and just call forward.\u001b[39;00m\n\u001b[1;32m   1517\u001b[0m \u001b[38;5;28;01mif\u001b[39;00m \u001b[38;5;129;01mnot\u001b[39;00m (\u001b[38;5;28mself\u001b[39m\u001b[38;5;241m.\u001b[39m_backward_hooks \u001b[38;5;129;01mor\u001b[39;00m \u001b[38;5;28mself\u001b[39m\u001b[38;5;241m.\u001b[39m_backward_pre_hooks \u001b[38;5;129;01mor\u001b[39;00m \u001b[38;5;28mself\u001b[39m\u001b[38;5;241m.\u001b[39m_forward_hooks \u001b[38;5;129;01mor\u001b[39;00m \u001b[38;5;28mself\u001b[39m\u001b[38;5;241m.\u001b[39m_forward_pre_hooks\n\u001b[1;32m   1518\u001b[0m         \u001b[38;5;129;01mor\u001b[39;00m _global_backward_pre_hooks \u001b[38;5;129;01mor\u001b[39;00m _global_backward_hooks\n\u001b[1;32m   1519\u001b[0m         \u001b[38;5;129;01mor\u001b[39;00m _global_forward_hooks \u001b[38;5;129;01mor\u001b[39;00m _global_forward_pre_hooks):\n\u001b[0;32m-> 1520\u001b[0m     \u001b[38;5;28;01mreturn\u001b[39;00m \u001b[43mforward_call\u001b[49m\u001b[43m(\u001b[49m\u001b[38;5;241;43m*\u001b[39;49m\u001b[43margs\u001b[49m\u001b[43m,\u001b[49m\u001b[43m \u001b[49m\u001b[38;5;241;43m*\u001b[39;49m\u001b[38;5;241;43m*\u001b[39;49m\u001b[43mkwargs\u001b[49m\u001b[43m)\u001b[49m\n\u001b[1;32m   1522\u001b[0m \u001b[38;5;28;01mtry\u001b[39;00m:\n\u001b[1;32m   1523\u001b[0m     result \u001b[38;5;241m=\u001b[39m \u001b[38;5;28;01mNone\u001b[39;00m\n",
      "Input \u001b[0;32mIn [73]\u001b[0m, in \u001b[0;36mNeuralNet.forward\u001b[0;34m(self, x)\u001b[0m\n\u001b[1;32m     10\u001b[0m \u001b[38;5;28;01mdef\u001b[39;00m \u001b[38;5;21mforward\u001b[39m(\u001b[38;5;28mself\u001b[39m, x):\n\u001b[1;32m     11\u001b[0m     x \u001b[38;5;241m=\u001b[39m \u001b[38;5;28mself\u001b[39m\u001b[38;5;241m.\u001b[39mln1(x)\n\u001b[0;32m---> 12\u001b[0m     x \u001b[38;5;241m=\u001b[39m \u001b[43mtorch\u001b[49m\u001b[38;5;241;43m.\u001b[39;49m\u001b[43mnn\u001b[49m\u001b[38;5;241;43m.\u001b[39;49m\u001b[43mtanh\u001b[49m()(x)\n\u001b[1;32m     13\u001b[0m     x \u001b[38;5;241m=\u001b[39m \u001b[38;5;28mself\u001b[39m\u001b[38;5;241m.\u001b[39mln2(x)\n\u001b[1;32m     14\u001b[0m     x \u001b[38;5;241m=\u001b[39m torch\u001b[38;5;241m.\u001b[39mnn\u001b[38;5;241m.\u001b[39mtanh()(x)\n",
      "\u001b[0;31mAttributeError\u001b[0m: module 'torch.nn' has no attribute 'tanh'"
     ]
    }
   ],
   "source": [
    "for idx in range(100):\n",
    "    \n",
    "    model.train()\n",
    "    xB = x_train[idx].unsqueeze(0).float()\n",
    "    ypred = model(xB)\n",
    "    print(ypred)\n",
    "    target = y_train[idx].float()\n",
    "    loss = loss_fn(ypred.squeeze(0), target)\n",
    "#     print(loss)\n",
    "    \n",
    "    optimizer.zero_grad()\n",
    "    loss.backward()\n",
    "    optimizer.step\n",
    "    \n",
    "    "
   ]
  },
  {
   "cell_type": "code",
   "execution_count": 63,
   "id": "ecc9269d",
   "metadata": {},
   "outputs": [
    {
     "name": "stdout",
     "output_type": "stream",
     "text": [
      "tensor([[0.9342, 0.5886]])\n",
      "tensor([[1.]], grad_fn=<SoftmaxBackward0>) tensor(1.5228)\n",
      "tensor([[0.7594, 0.1769]])\n",
      "tensor([[1.]], grad_fn=<SoftmaxBackward0>) tensor(0.9363)\n",
      "tensor([[0.0813, 0.8176]])\n",
      "tensor([[1.]], grad_fn=<SoftmaxBackward0>) tensor(0.8989)\n",
      "tensor([[0.0202, 0.4810]])\n",
      "tensor([[1.]], grad_fn=<SoftmaxBackward0>) tensor(0.5012)\n",
      "tensor([[0.0495, 0.3066]])\n",
      "tensor([[1.]], grad_fn=<SoftmaxBackward0>) tensor(0.3561)\n",
      "tensor([[0.3735, 0.8081]])\n",
      "tensor([[1.]], grad_fn=<SoftmaxBackward0>) tensor(1.1815)\n",
      "tensor([[0.5931, 0.4263]])\n",
      "tensor([[1.]], grad_fn=<SoftmaxBackward0>) tensor(1.0194)\n",
      "tensor([[0.4330, 0.7250]])\n",
      "tensor([[1.]], grad_fn=<SoftmaxBackward0>) tensor(1.1580)\n",
      "tensor([[0.9683, 0.1885]])\n",
      "tensor([[1.]], grad_fn=<SoftmaxBackward0>) tensor(1.1568)\n",
      "tensor([[0.7092, 0.2020]])\n",
      "tensor([[1.]], grad_fn=<SoftmaxBackward0>) tensor(0.9112)\n"
     ]
    }
   ],
   "source": [
    "import numpy as np\n",
    "\n",
    "for i in range(10):\n",
    "    model.eval()\n",
    "    idx = np.random.randint(0, len(x_test))\n",
    "    xB = x_test[idx].unsqueeze(0)\n",
    "    print(xB)\n",
    "    yB = y_test[idx]\n",
    "    ypred = model(xB)\n",
    "    \n",
    "    \n",
    "    "
   ]
  },
  {
   "cell_type": "code",
   "execution_count": null,
   "id": "167207a5",
   "metadata": {},
   "outputs": [],
   "source": []
  }
 ],
 "metadata": {
  "kernelspec": {
   "display_name": "Python 3 (ipykernel)",
   "language": "python",
   "name": "python3"
  },
  "language_info": {
   "codemirror_mode": {
    "name": "ipython",
    "version": 3
   },
   "file_extension": ".py",
   "mimetype": "text/x-python",
   "name": "python",
   "nbconvert_exporter": "python",
   "pygments_lexer": "ipython3",
   "version": "3.9.13"
  }
 },
 "nbformat": 4,
 "nbformat_minor": 5
}
